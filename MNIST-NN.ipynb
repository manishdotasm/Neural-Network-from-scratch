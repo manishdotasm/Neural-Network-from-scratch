{
 "cells": [
  {
   "cell_type": "code",
   "execution_count": 1,
   "id": "07db6188-814c-4934-9529-162414cb8d4d",
   "metadata": {},
   "outputs": [],
   "source": [
    "import numpy as np\n",
    "import matplotlib.pyplot as plt\n",
    "import random"
   ]
  },
  {
   "cell_type": "code",
   "execution_count": 2,
   "id": "034a90cf-4991-4d1c-9494-ef6dbe317140",
   "metadata": {},
   "outputs": [],
   "source": [
    "x_train = np.loadtxt('files/train_X.csv', delimiter = ',').T\n",
    "y_train = np.loadtxt('files/train_label.csv', delimiter = ',').T\n",
    "\n",
    "x_test = np.loadtxt('files/test_X.csv', delimiter = ',').T\n",
    "y_test = np.loadtxt('files/test_label.csv', delimiter = ',').T"
   ]
  },
  {
   "cell_type": "code",
   "execution_count": 3,
   "id": "19f4a756-539b-4fff-a9c1-f009509c6672",
   "metadata": {},
   "outputs": [
    {
     "name": "stdout",
     "output_type": "stream",
     "text": [
      "shape of X_train : (784, 1000)\n",
      "shape of Y_train : (784, 1000)\n",
      "shape of X_test : (784, 350)\n",
      "shape of Y_test : (784, 350)\n"
     ]
    }
   ],
   "source": [
    "print(\"shape of X_train :\", x_train.shape)\n",
    "print(\"shape of Y_train :\", x_train.shape)\n",
    "print(\"shape of X_test :\", x_test.shape)\n",
    "print(\"shape of Y_test :\", x_test.shape)"
   ]
  },
  {
   "cell_type": "code",
   "execution_count": 6,
   "id": "6d41a4e3-3748-456a-9572-24ab4236640e",
   "metadata": {},
   "outputs": [
    {
     "data": {
      "image/png": "[encoded data removed]",
      "text/plain": [
       "<Figure size 640x480 with 1 Axes>"
      ]
     },
     "metadata": {},
     "output_type": "display_data"
    }
   ],
   "source": [
    "index = random.randrange(0, x_train.shape[1])\n",
    "plt.imshow(x_train[:, index].reshape(28, 28), cmap = 'gray')\n",
    "plt.show()"
   ]
  },
  {
   "cell_type": "code",
   "execution_count": 7,
   "id": "58afa291-767c-4db9-b21f-dace4bb53c0b",
   "metadata": {},
   "outputs": [],
   "source": [
    "def tanh(x):\n",
    "    return np.tanh(x)\n",
    "\n",
    "def relu(x):\n",
    "    return np.maximum(x, 0)\n",
    "\n",
    "def softmax(x):\n",
    "    expX = np.exp(x)\n",
    "    return expX/np.sum(expX, axis = 0)\n",
    "\n",
    "def derivative_tanh(x):\n",
    "    return (1 - np.power(np.tanh(x), 2))\n",
    "\n",
    "def derivative_relu(x):\n",
    "    return np.array(x > 0, dtype = np.float32)\n",
    "    "
   ]
  },
  {
   "cell_type": "code",
   "execution_count": 8,
   "id": "3e18cd13-a87f-458b-8473-2414b29b9134",
   "metadata": {},
   "outputs": [],
   "source": [
    "# randomly generates the first parameters \n",
    "\n",
    "def initialize_parameters(nx, nh, ny):\n",
    "    w1 = np.random.randn(nh, nx)*0.01  # generates the weights of each node of input_layer x hidden_layer\n",
    "    b1 = np.zeros((nh,1))              # generates the biases of each neuron of the hidden_layer\n",
    "\n",
    "    w2 = np.random.randn(ny, nh)*0.01  # generates the weights of each node of hidden_layer x output_layer\n",
    "    b2 = np.zeros((ny,1))              # generates the biases of each neuron of the output layer\n",
    "\n",
    "    parameters = {\n",
    "        \"w1\" : w1, \n",
    "        \"b1\" : b1, \n",
    "        \"w2\" : w2,\n",
    "        \"b2\" : b2\n",
    "    }\n",
    "\n",
    "    return parameters"
   ]
  },
  {
   "cell_type": "code",
   "execution_count": 9,
   "id": "838a3f47-86b1-45fa-b3a1-494626fbf4e6",
   "metadata": {},
   "outputs": [],
   "source": [
    "# forward propogration function \n",
    "\n",
    "def forward_propagation(x, parameters): # takes in input and initial parameters \n",
    "    w1 = parameters['w1']\n",
    "    b1 = parameters['b1']\n",
    "    w2 = parameters['w2']\n",
    "    b2 = parameters['b2']\n",
    "\n",
    "    z1 = np.dot(w1, x) + b1 # calculates the values of the first neuron layer \n",
    "    a1 = relu(z1)           # activates the values with relu function\n",
    " \n",
    "    z2 = np.dot(w2, a1) + b2 # calculates the values of the output layer \n",
    "    a2 = softmax(z2)         # activates the output layer with softmax function\n",
    "\n",
    "    forward_cache = {\n",
    "        'z1' : z1, \n",
    "        'a1' : a1,\n",
    "        'z2' : z2,\n",
    "        'a2' : a2\n",
    "    }\n",
    "\n",
    "    return forward_cache"
   ]
  },
  {
   "cell_type": "code",
   "execution_count": 10,
   "id": "33e0365b-bd15-4aa3-993a-e1c020dd9d8b",
   "metadata": {},
   "outputs": [],
   "source": [
    "# cost function\n",
    "def cost_function(a2, y):  # takes in the output layer, and compares it to the label, and calculates the cost based on the values of the output neurons \n",
    "    m = y.shape[1]\n",
    "    cost = -(1/m)*np.sum(y*np.log(a2))\n",
    "    return cost"
   ]
  },
  {
   "cell_type": "code",
   "execution_count": 11,
   "id": "63ffc4b5-4997-4a3d-af08-5db6f0510f3a",
   "metadata": {},
   "outputs": [],
   "source": [
    "def backward_prop(x, y, parameters, forward_cache):\n",
    "    \n",
    "    w1 = parameters['w1']\n",
    "    b1 = parameters['b1']\n",
    "    w2 = parameters['w2']\n",
    "    b2 = parameters['b2']\n",
    "    \n",
    "    a1 = forward_cache['a1']\n",
    "    a2 = forward_cache['a2']\n",
    "    \n",
    "    m = x.shape[1]\n",
    "    \n",
    "    dz2 = (a2 - y)  # the output neuron values - values from y [0,0,0,0,1,0,0,0,0,0] for 5\n",
    "    dw2 = (1/m)*np.dot(dz2, a1.T)\n",
    "    db2 = (1/m)*np.sum(dz2, axis = 1, keepdims = True)\n",
    "    \n",
    "    dz1 = (1/m)*np.dot(w2.T, dz2)*derivative_tanh(a1)\n",
    "    dw1 = (1/m)*np.dot(dz1, x.T)\n",
    "    db1 = (1/m)*np.sum(dz1, axis = 1, keepdims = True)\n",
    "    \n",
    "    gradients = {\n",
    "        \"dw1\" : dw1,\n",
    "        \"db1\" : db1,\n",
    "        \"dw2\" : dw2,\n",
    "        \"db2\" : db2\n",
    "    }\n",
    "    \n",
    "    return gradients\n"
   ]
  },
  {
   "cell_type": "code",
   "execution_count": 12,
   "id": "b7f4a2da-b2fc-4ce4-b358-79db584b69fc",
   "metadata": {},
   "outputs": [],
   "source": [
    "def update_parameters(parameters, gradients, learning_rate):\n",
    "    \n",
    "    w1 = parameters['w1']\n",
    "    b1 = parameters['b1']\n",
    "    w2 = parameters['w2']\n",
    "    b2 = parameters['b2']\n",
    "    \n",
    "    dw1 = gradients['dw1']\n",
    "    db1 = gradients['db1']\n",
    "    dw2 = gradients['dw2']\n",
    "    db2 = gradients['db2']\n",
    "    \n",
    "    w1 = w1 - learning_rate*dw1\n",
    "    b1 = b1 - learning_rate*db1\n",
    "    w2 = w2 - learning_rate*dw2\n",
    "    b2 = b2 - learning_rate*db2\n",
    "    \n",
    "    parameters = {\n",
    "        \"w1\" : w1,\n",
    "        \"b1\" : b1,\n",
    "        \"w2\" : w2,\n",
    "        \"b2\" : b2\n",
    "    }\n",
    "    \n",
    "    return parameters"
   ]
  },
  {
   "cell_type": "code",
   "execution_count": 13,
   "id": "9cd9e1d4-0002-4ea8-adc0-731331b39086",
   "metadata": {},
   "outputs": [],
   "source": [
    "# the complete model\n",
    "\n",
    "def model(x, y, n_h, learning_rate, iterations):\n",
    "    \n",
    "    n_x = x.shape[0]\n",
    "    n_y = y.shape[0]\n",
    "    \n",
    "    cost_list = []\n",
    "    \n",
    "    parameters = initialize_parameters(n_x, n_h, n_y)\n",
    "    \n",
    "    for i in range(iterations):\n",
    "        \n",
    "        forward_cache = forward_propagation(x, parameters)\n",
    "        \n",
    "        cost = cost_function(forward_cache['a2'], y)\n",
    "        \n",
    "        gradients = backward_prop(x, y, parameters, forward_cache)\n",
    "        \n",
    "        parameters = update_parameters(parameters, gradients, learning_rate)\n",
    "        \n",
    "        cost_list.append(cost)\n",
    "        \n",
    "        if(i%(iterations/10) == 0):\n",
    "            print(\"Cost after\", i, \"iterations is :\", cost)\n",
    "        \n",
    "    return parameters, cost_list"
   ]
  },
  {
   "cell_type": "code",
   "execution_count": 24,
   "id": "4f85b438-328c-4257-aa75-380b73e17ac1",
   "metadata": {},
   "outputs": [
    {
     "name": "stdout",
     "output_type": "stream",
     "text": [
      "Cost after 0 iterations is : 8.74183917599676\n",
      "Cost after 100 iterations is : 0.056849698278876336\n",
      "Cost after 200 iterations is : 0.019007085267523663\n",
      "Cost after 300 iterations is : 0.012414201954084474\n",
      "Cost after 400 iterations is : 0.009425974877485845\n",
      "Cost after 500 iterations is : 0.007666015744825582\n",
      "Cost after 600 iterations is : 0.006491968733460791\n",
      "Cost after 700 iterations is : 0.005647412307146952\n",
      "Cost after 800 iterations is : 0.005008002827999771\n",
      "Cost after 900 iterations is : 0.004505608479476094\n"
     ]
    }
   ],
   "source": [
    "iterations = 1000\n",
    "n_h = 1000\n",
    "learning_rate = 0.001\n",
    "Parameters, Cost_list = model(x_train, y_train, n_h = n_h, learning_rate = learning_rate, iterations = iterations)"
   ]
  },
  {
   "cell_type": "code",
   "execution_count": 18,
   "id": "20e0388d-63b8-4468-bd54-b0e175a74360",
   "metadata": {},
   "outputs": [
    {
     "data": {
      "image/png": "[encoded data removed]",
      "text/plain": [
       "<Figure size 640x480 with 1 Axes>"
      ]
     },
     "metadata": {},
     "output_type": "display_data"
    }
   ],
   "source": [
    "t = np.arange(0, iterations)\n",
    "plt.plot(t, Cost_list)\n",
    "plt.show()"
   ]
  },
  {
   "cell_type": "code",
   "execution_count": 22,
   "id": "99f45328-1dfb-4489-85f5-fa16fcc5b1af",
   "metadata": {},
   "outputs": [],
   "source": [
    "def accuracy(inp, labels, parameters):\n",
    "    forward_cache = forward_propagation(inp, parameters)\n",
    "    a_out = forward_cache['a2']   # containes propabilities with shape(10, 1)\n",
    "    \n",
    "    a_out = np.argmax(a_out, 0)  # 0 represents row wise \n",
    "    \n",
    "    labels = np.argmax(labels, 0)\n",
    "    \n",
    "    acc = np.mean(a_out == labels)*100\n",
    "    \n",
    "    return acc"
   ]
  },
  {
   "cell_type": "code",
   "execution_count": 23,
   "id": "5f65cccd-0529-419c-885a-22b952c23508",
   "metadata": {},
   "outputs": [
    {
     "name": "stdout",
     "output_type": "stream",
     "text": [
      "accuracy:  86.85714285714286 %\n"
     ]
    }
   ],
   "source": [
    "print(\"accuracy: \", accuracy(x_test, y_test, Parameters), \"%\")"
   ]
  },
  {
   "cell_type": "code",
   "execution_count": null,
   "id": "394cd33f-21a2-4246-8510-86529f6ef24c",
   "metadata": {},
   "outputs": [],
   "source": []
  }
 ],
 "metadata": {
  "kernelspec": {
   "display_name": "Python 3 (ipykernel)",
   "language": "python",
   "name": "python3"
  },
  "language_info": {
   "codemirror_mode": {
    "name": "ipython",
    "version": 3
   },
   "file_extension": ".py",
   "mimetype": "text/x-python",
   "name": "python",
   "nbconvert_exporter": "python",
   "pygments_lexer": "ipython3",
   "version": "3.11.8"
  }
 },
 "nbformat": 4,
 "nbformat_minor": 5
}
